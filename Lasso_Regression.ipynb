{
  "nbformat": 4,
  "nbformat_minor": 0,
  "metadata": {
    "colab": {
      "name": "Lasso Regression.ipynb",
      "provenance": [],
      "collapsed_sections": []
    },
    "kernelspec": {
      "name": "python3",
      "display_name": "Python 3"
    }
  },
  "cells": [
    {
      "cell_type": "code",
      "metadata": {
        "id": "kmVVEI-YVJD2",
        "colab_type": "code",
        "colab": {}
      },
      "source": [
        "#importing libraries\n",
        "\n",
        "import numpy as np \n",
        "import matplotlib.pyplot as plt"
      ],
      "execution_count": 0,
      "outputs": []
    },
    {
      "cell_type": "code",
      "metadata": {
        "id": "5sa9nJMqVUJs",
        "colab_type": "code",
        "colab": {}
      },
      "source": [
        "#Generating Training data set\n",
        "No_of_observations = 50  \n",
        "No_of_Dimensions = 50\n",
        "\n",
        "X_input = (np.random.random((No_of_observations, No_of_Dimensions))-0.5)*10 #Generating 50x50 matrix forX with random values centered round 0.5      \n",
        "actual_weight =  np.array([1, 0.5, -0.5] + [0]*(No_of_Dimensions-3)) # Making first 3 features significant by setting w for them as non-zero and others zero\n",
        "Y_output = X_input@actual_weight + np.random.randn(No_of_observations)*0.5 #Setting Y = X.w + some random noise "
      ],
      "execution_count": 0,
      "outputs": []
    },
    {
      "cell_type": "code",
      "metadata": {
        "id": "sH6wXkQLVbYm",
        "colab_type": "code",
        "colab": {}
      },
      "source": [
        "#Initialising lambda(L1_coefficient) and alpha(learning_rate)\n",
        "losses = [] #Setting empty list for losses\n",
        "L1_coeff = 5    \n",
        "alpha = 0.001 "
      ],
      "execution_count": 0,
      "outputs": []
    },
    {
      "cell_type": "code",
      "metadata": {
        "id": "NyGWBbsGXbZt",
        "colab_type": "code",
        "colab": {}
      },
      "source": [
        "#random initialisation of theta(weights)\n",
        "weight = np.random.randn(No_of_Dimensions)/np.sqrt(No_of_Dimensions) #Setting w to random values\n"
      ],
      "execution_count": 0,
      "outputs": []
    },
    {
      "cell_type": "code",
      "metadata": {
        "id": "7NwgbD8yW1sU",
        "colab_type": "code",
        "colab": {}
      },
      "source": [
        "#implementing Hypothesis function\n",
        "def hypothesis(X, theta):\n",
        "  return X@theta"
      ],
      "execution_count": 0,
      "outputs": []
    },
    {
      "cell_type": "code",
      "metadata": {
        "id": "06Yhwn7pYkzb",
        "colab_type": "code",
        "colab": {}
      },
      "source": [
        "#implementing loss function (mean Square Error)\n",
        "def loss(theta, X, y):\n",
        "  return np.mean(np.square(hypothesis(X, theta) - y))"
      ],
      "execution_count": 0,
      "outputs": []
    },
    {
      "cell_type": "code",
      "metadata": {
        "id": "8lEt_mXuVppy",
        "colab_type": "code",
        "colab": {}
      },
      "source": [
        "#implementing a training loop with 500 epochs\n",
        "for i in range(500):\n",
        "    delta = hypothesis(X_input,weight) - Y_output #the error between predicted output and actual output\n",
        "    weight = weight - alpha*(X_input.T@delta + L1_coeff*np.sign(weight)) #performing gradient descent for w\n",
        "    losses.append(loss(weight,X_input,Y_output)) #Appending mse for each iteration in losses list\n",
        "    "
      ],
      "execution_count": 0,
      "outputs": []
    },
    {
      "cell_type": "code",
      "metadata": {
        "id": "2Laq8cp-lrED",
        "colab_type": "code",
        "colab": {
          "base_uri": "https://localhost:8080/",
          "height": 35
        },
        "outputId": "f26b0346-a8ef-4b2f-a8a7-a45e4e6a4c97"
      },
      "source": [
        "losses[-1]"
      ],
      "execution_count": 103,
      "outputs": [
        {
          "output_type": "execute_result",
          "data": {
            "text/plain": [
              "0.1196436339716497"
            ]
          },
          "metadata": {
            "tags": []
          },
          "execution_count": 103
        }
      ]
    },
    {
      "cell_type": "code",
      "metadata": {
        "id": "pnXiB7EKV3v5",
        "colab_type": "code",
        "colab": {
          "base_uri": "https://localhost:8080/",
          "height": 265
        },
        "outputId": "8bf59bec-f881-42e8-db28-9178bec2ad2e"
      },
      "source": [
        "# plot our weight vs true weight\n",
        "plt.plot(actual_weight, label='true weight')\n",
        "plt.plot(weight, label='weight determined by model')\n",
        "plt.legend()\n",
        "plt.show()\n"
      ],
      "execution_count": 104,
      "outputs": [
        {
          "output_type": "display_data",
          "data": {
            "image/png": "[encoded data removed]",
            "text/plain": [
              "<Figure size 432x288 with 1 Axes>"
            ]
          },
          "metadata": {
            "tags": []
          }
        }
      ]
    },
    {
      "cell_type": "code",
      "metadata": {
        "id": "V7k1Aom4V6RD",
        "colab_type": "code",
        "colab": {}
      },
      "source": [
        ""
      ],
      "execution_count": 0,
      "outputs": []
    }
  ]
}
