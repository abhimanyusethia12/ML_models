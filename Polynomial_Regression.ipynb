{
  "nbformat": 4,
  "nbformat_minor": 0,
  "metadata": {
    "colab": {
      "name": "Polynomial_Regression.ipynb",
      "provenance": [],
      "collapsed_sections": [],
      "include_colab_link": true
    },
    "kernelspec": {
      "name": "python3",
      "display_name": "Python 3"
    }
  },
  "cells": [
    {
      "cell_type": "markdown",
      "metadata": {
        "id": "view-in-github",
        "colab_type": "text"
      },
      "source": [
        "<a href=\"https://colab.research.google.com/github/abhimanyusethia12/ML_models/blob/master/Polynomial_Regression.ipynb\" target=\"_parent\"><img src=\"https://colab.research.google.com/assets/colab-badge.svg\" alt=\"Open In Colab\"/></a>"
      ]
    },
    {
      "cell_type": "code",
      "metadata": {
        "id": "sg-NF8rt4alH",
        "colab_type": "code",
        "colab": {}
      },
      "source": [
        "#importing numby and matplotlib\n",
        "import numpy as np\n",
        "import matplotlib.pyplot as plt"
      ],
      "execution_count": 0,
      "outputs": []
    },
    {
      "cell_type": "code",
      "metadata": {
        "id": "dYB7RBjHrLug",
        "colab_type": "code",
        "colab": {}
      },
      "source": [
        "#Generating training dataset\n",
        "No_of_observations = 10  \n",
        "X= np.random.rand(No_of_observations,1)                                #Generating a random 1x10 array\n",
        "#adding bias factor to x\n",
        "X = np.hstack((np.ones((No_of_observations, 1)), X))\n",
        "#adding polynomial features to the array\n",
        "X = np.hstack((\n",
        "    X,\n",
        "    (X[:, 1] ** 2).reshape((No_of_observations, 1)),\n",
        "    (X[:, 1] ** 3).reshape((No_of_observations, 1)),\n",
        "    (X[:, 1] ** 4).reshape((No_of_observations, 1))\n",
        "))\n",
        "No_of_dimensions = 4\n",
        "\n",
        "actual_weight =  np.array([1, 0.5, -0.5, 2,-1])               #Random Weights taken for generation of training data\n",
        "y = X@actual_weight                                      #Setting Y = X.w \n"
      ],
      "execution_count": 0,
      "outputs": []
    },
    {
      "cell_type": "code",
      "metadata": {
        "id": "YfWV373s8Ip_",
        "colab_type": "code",
        "colab": {}
      },
      "source": [
        "#normalising X\n",
        "X[:, 1:] = (X[:, 1:] - np.mean(X[:, 1:], axis=0)) / np.std(X[:, 1:], axis=0)"
      ],
      "execution_count": 0,
      "outputs": []
    },
    {
      "cell_type": "code",
      "metadata": {
        "id": "xEaKBGbW9CYW",
        "colab_type": "code",
        "colab": {}
      },
      "source": [
        "#implementing Hypothesis function\n",
        "def hypothesis(X, weight):\n",
        "  return X @ weight"
      ],
      "execution_count": 0,
      "outputs": []
    },
    {
      "cell_type": "code",
      "metadata": {
        "id": "uSMC9zlG-gs0",
        "colab_type": "code",
        "colab": {}
      },
      "source": [
        "#random initialisation of weights (theta)\n",
        "weight = np.random.random(No_of_dimensions+1)\n",
        "predictions = hypothesis(X, weight)"
      ],
      "execution_count": 0,
      "outputs": []
    },
    {
      "cell_type": "code",
      "metadata": {
        "id": "SBNqvrjDBWiI",
        "colab_type": "code",
        "colab": {}
      },
      "source": [
        "#implementing a loss function\n",
        "def loss_function(weight, X, y):\n",
        "  return np.mean(np.square(hypothesis(X, weight) - y))"
      ],
      "execution_count": 0,
      "outputs": []
    },
    {
      "cell_type": "code",
      "metadata": {
        "id": "J2SrcBB3Fykj",
        "colab_type": "code",
        "colab": {}
      },
      "source": [
        "#defining learning_rate (alpha)\n",
        "#typical value of alpha is 0.01 \n",
        "learning_rate = 0.01    "
      ],
      "execution_count": 0,
      "outputs": []
    },
    {
      "cell_type": "code",
      "metadata": {
        "id": "LaWFlR-_Fcvi",
        "colab_type": "code",
        "colab": {}
      },
      "source": [
        "#implementing a training loop with 500 epochs\n",
        "losses = []\n",
        "for _ in range(500):\n",
        "  weight = weight - learning_rate * (1/No_of_observations) * (X.T @ ((X @ weight) - y)) #this is a single gradient descent step\n",
        "  losses.append(loss_function(weight, X, y))"
      ],
      "execution_count": 0,
      "outputs": []
    },
    {
      "cell_type": "code",
      "metadata": {
        "id": "R0eqNiQFF_6X",
        "colab_type": "code",
        "outputId": "202d8442-d279-48ba-88d0-bde81440adb6",
        "colab": {
          "base_uri": "https://localhost:8080/",
          "height": 283
        }
      },
      "source": [
        "#plotting hypothesis function, after training loop and testing data\n",
        "predictions = hypothesis(X, weight)\n",
        "plt.plot(X[:, 1], predictions, label='predictions')\n",
        "plt.plot(X[:, 1], y, 'rx', label='labels')\n",
        "plt.legend() "
      ],
      "execution_count": 33,
      "outputs": [
        {
          "output_type": "execute_result",
          "data": {
            "text/plain": [
              "<matplotlib.legend.Legend at 0x7f793110f240>"
            ]
          },
          "metadata": {
            "tags": []
          },
          "execution_count": 33
        },
        {
          "output_type": "display_data",
          "data": {
            "image/png": "[encoded data removed]",
            "text/plain": [
              "<Figure size 432x288 with 1 Axes>"
            ]
          },
          "metadata": {
            "tags": []
          }
        }
      ]
    },
    {
      "cell_type": "code",
      "metadata": {
        "id": "57Wdzo4kNyhj",
        "colab_type": "code",
        "outputId": "6305eb44-41ce-4f6c-83af-8d4e364b1dab",
        "colab": {
          "base_uri": "https://localhost:8080/",
          "height": 35
        }
      },
      "source": [
        "#value of loss function for the model\n",
        "losses[-1]"
      ],
      "execution_count": 34,
      "outputs": [
        {
          "output_type": "execute_result",
          "data": {
            "text/plain": [
              "0.0018903169048130296"
            ]
          },
          "metadata": {
            "tags": []
          },
          "execution_count": 34
        }
      ]
    },
    {
      "cell_type": "code",
      "metadata": {
        "id": "ojuulD3wd8jk",
        "colab_type": "code",
        "outputId": "29f9f4d0-76ae-4c22-f0ff-3ef74b8d0ffc",
        "colab": {
          "base_uri": "https://localhost:8080/",
          "height": 265
        }
      },
      "source": [
        "# plot our weight vs true weight\n",
        "plt.plot(actual_weight, label='true weight')\n",
        "plt.plot(weight, label='model determined weight')\n",
        "plt.legend()\n",
        "plt.show()\n"
      ],
      "execution_count": 35,
      "outputs": [
        {
          "output_type": "display_data",
          "data": {
            "image/png": "[encoded data removed]",
            "text/plain": [
              "<Figure size 432x288 with 1 Axes>"
            ]
          },
          "metadata": {
            "tags": []
          }
        }
      ]
    }
  ]
}